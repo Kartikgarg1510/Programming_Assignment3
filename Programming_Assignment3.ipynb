{
 "cells": [
  {
   "cell_type": "markdown",
   "id": "d43a5185-49a5-4595-ae1b-cfdc0b5c5175",
   "metadata": {},
   "source": [
    "# 1. Write a Python Program to Check if a Number is Positive, Negative or Zero?"
   ]
  },
  {
   "cell_type": "code",
   "execution_count": 8,
   "id": "1754aee5-eeb6-43d4-ae53-9a41d3156afb",
   "metadata": {},
   "outputs": [
    {
     "name": "stdin",
     "output_type": "stream",
     "text": [
      "Enter the number 3\n"
     ]
    },
    {
     "name": "stdout",
     "output_type": "stream",
     "text": [
      "3 is Positive\n"
     ]
    }
   ],
   "source": [
    "number = int(input(\"Enter the number\"))\n",
    "\n",
    "if number > 0:\n",
    "    print(f\"{number} is Positive\")\n",
    "elif number < 0:\n",
    "    print(f\"{number} is Negative\")\n",
    "else:\n",
    "    print(f\"{number} is Zero\")"
   ]
  },
  {
   "cell_type": "markdown",
   "id": "64a2af4a-127b-4f81-bc60-8db6c74bed06",
   "metadata": {},
   "source": [
    "# 2. Write a Python Program to Check if a Number is Odd or Even?"
   ]
  },
  {
   "cell_type": "code",
   "execution_count": 10,
   "id": "ab681e15-d10a-48e6-8e95-b5b804f3c659",
   "metadata": {},
   "outputs": [
    {
     "name": "stdin",
     "output_type": "stream",
     "text": [
      "Enter a number:  28\n"
     ]
    },
    {
     "name": "stdout",
     "output_type": "stream",
     "text": [
      "28 is Even\n"
     ]
    }
   ],
   "source": [
    "number = int(input(\"Enter a number: \"))\n",
    "\n",
    "if number % 2 == 0:\n",
    "    print(f\"{number} is Even\")\n",
    "else:\n",
    "    print(f\"{number} is Odd\")"
   ]
  },
  {
   "cell_type": "markdown",
   "id": "58d578b2-1eed-4ade-8e06-02ee11fd6fe7",
   "metadata": {},
   "source": [
    "# 3. Write a Python Program to Check Leap Year?"
   ]
  },
  {
   "cell_type": "code",
   "execution_count": 13,
   "id": "55ab1ee3-2468-4b0f-a7b1-933cda49f242",
   "metadata": {},
   "outputs": [
    {
     "name": "stdin",
     "output_type": "stream",
     "text": [
      "Enter year:  2024\n"
     ]
    },
    {
     "name": "stdout",
     "output_type": "stream",
     "text": [
      "Leap Year\n"
     ]
    }
   ],
   "source": [
    "year = int(input(\"Enter year: \"))\n",
    "\n",
    "if year % 4 == 0:\n",
    "    if year % 100 == 0:\n",
    "        if year % 400 == 0:\n",
    "            print(\"Leap Year\")\n",
    "        else:\n",
    "            print(\"Not a Leap Year\")\n",
    "    else:\n",
    "        print(\"Leap Year\")\n",
    "else:\n",
    "    print(\"Not a Leap Year\")"
   ]
  },
  {
   "cell_type": "markdown",
   "id": "ecdcd41a-487f-41a7-9129-553f1067df85",
   "metadata": {},
   "source": [
    "# 4. Write a Python Program to Check Prime Number?"
   ]
  },
  {
   "cell_type": "code",
   "execution_count": 16,
   "id": "0f4e6e0e-bb5a-486a-92ec-dec799ab9320",
   "metadata": {},
   "outputs": [
    {
     "name": "stdin",
     "output_type": "stream",
     "text": [
      "Enter number:  2675\n"
     ]
    },
    {
     "name": "stdout",
     "output_type": "stream",
     "text": [
      "Not Prime\n"
     ]
    }
   ],
   "source": [
    "n = int(input(\"Enter number: \"))\n",
    "if n > 1:\n",
    "    for i in range(2, n):\n",
    "        if n % i == 0:\n",
    "            print(\"Not Prime\")\n",
    "            break\n",
    "    else:\n",
    "        print(\"Prime\")\n",
    "else:\n",
    "    print(\"Not Prime\")"
   ]
  },
  {
   "cell_type": "markdown",
   "id": "0e6f691d-eba6-48a9-989e-cf2b2e4ebe51",
   "metadata": {},
   "source": [
    "# 5. Write a Python Program to Print all Prime Numbers in an Interval of 1-10000?"
   ]
  },
  {
   "cell_type": "code",
   "execution_count": 19,
   "id": "bc473d23-252d-4a4b-b642-e081c8a56e3a",
   "metadata": {},
   "outputs": [
    {
     "name": "stdout",
     "output_type": "stream",
     "text": [
      "Not Prime\n"
     ]
    }
   ],
   "source": [
    "n = 0\n",
    "if n > 1:\n",
    "    for i in range(2, 10000):\n",
    "        if n % i == 0:\n",
    "            print(\"Not Prime\")\n",
    "            break\n",
    "    else:\n",
    "        print(\"Prime\")\n",
    "else:\n",
    "    print(\"Not Prime\")"
   ]
  },
  {
   "cell_type": "code",
   "execution_count": null,
   "id": "c6d46a60-6582-4c5d-9441-c01e14b74963",
   "metadata": {},
   "outputs": [],
   "source": []
  },
  {
   "cell_type": "code",
   "execution_count": null,
   "id": "958c4177-35fe-4f07-ba8d-dd6d4139c202",
   "metadata": {},
   "outputs": [],
   "source": []
  }
 ],
 "metadata": {
  "kernelspec": {
   "display_name": "Python [conda env:base] *",
   "language": "python",
   "name": "conda-base-py"
  },
  "language_info": {
   "codemirror_mode": {
    "name": "ipython",
    "version": 3
   },
   "file_extension": ".py",
   "mimetype": "text/x-python",
   "name": "python",
   "nbconvert_exporter": "python",
   "pygments_lexer": "ipython3",
   "version": "3.12.7"
  }
 },
 "nbformat": 4,
 "nbformat_minor": 5
}
